{
 "cells": [
  {
   "cell_type": "markdown",
   "id": "d8fdf0fd",
   "metadata": {
    "id": "T8LlJ3ffHzoV",
    "papermill": {
     "duration": 0.009231,
     "end_time": "2024-09-18T22:55:41.862115",
     "exception": false,
     "start_time": "2024-09-18T22:55:41.852884",
     "status": "completed"
    },
    "tags": []
   },
   "source": [
    "# **Import Libraries**"
   ]
  },
  {
   "cell_type": "code",
   "execution_count": 1,
   "id": "f3f3b30a",
   "metadata": {
    "execution": {
     "iopub.execute_input": "2024-09-18T22:55:41.882101Z",
     "iopub.status.busy": "2024-09-18T22:55:41.880971Z",
     "iopub.status.idle": "2024-09-18T22:55:45.134425Z",
     "shell.execute_reply": "2024-09-18T22:55:45.133327Z"
    },
    "id": "sWLByLst747C",
    "papermill": {
     "duration": 3.266496,
     "end_time": "2024-09-18T22:55:45.137270",
     "exception": false,
     "start_time": "2024-09-18T22:55:41.870774",
     "status": "completed"
    },
    "tags": []
   },
   "outputs": [],
   "source": [
    "import pandas as pd\n",
    "import numpy as np\n",
    "import matplotlib.pyplot as plt\n",
    "import seaborn as sns\n",
    "import string\n",
    "import nltk\n",
    "from nltk.tokenize import word_tokenize\n",
    "from nltk.stem import WordNetLemmatizer, LancasterStemmer\n",
    "from nltk.corpus import stopwords\n",
    "from sklearn.model_selection import train_test_split\n",
    "from sklearn.feature_extraction.text import TfidfVectorizer\n",
    "from sklearn.linear_model import LogisticRegression\n",
    "from sklearn.metrics import accuracy_score, classification_report, confusion_matrix, ConfusionMatrixDisplay\n",
    "from sklearn.naive_bayes import MultinomialNB\n",
    "import re"
   ]
  },
  {
   "cell_type": "markdown",
   "id": "821c3bbc",
   "metadata": {
    "id": "7ae1qRfuIDpM",
    "papermill": {
     "duration": 0.008408,
     "end_time": "2024-09-18T22:55:45.154420",
     "exception": false,
     "start_time": "2024-09-18T22:55:45.146012",
     "status": "completed"
    },
    "tags": []
   },
   "source": [
    "# **Loading** **data**"
   ]
  },
  {
   "cell_type": "code",
   "execution_count": 2,
   "id": "0c9e9db4",
   "metadata": {
    "execution": {
     "iopub.execute_input": "2024-09-18T22:55:45.173256Z",
     "iopub.status.busy": "2024-09-18T22:55:45.172673Z",
     "iopub.status.idle": "2024-09-18T22:55:45.178024Z",
     "shell.execute_reply": "2024-09-18T22:55:45.176888Z"
    },
    "id": "E9IpJvHhlN6T",
    "papermill": {
     "duration": 0.01757,
     "end_time": "2024-09-18T22:55:45.180397",
     "exception": false,
     "start_time": "2024-09-18T22:55:45.162827",
     "status": "completed"
    },
    "tags": []
   },
   "outputs": [],
   "source": [
    "columns = [ 'Title' , 'Genre' , 'Description']\n",
    "column = ['Title' , 'Description']"
   ]
  },
  {
   "cell_type": "code",
   "execution_count": 3,
   "id": "a7d4eaef",
   "metadata": {
    "execution": {
     "iopub.execute_input": "2024-09-18T22:55:45.199646Z",
     "iopub.status.busy": "2024-09-18T22:55:45.199065Z",
     "iopub.status.idle": "2024-09-18T22:55:46.201887Z",
     "shell.execute_reply": "2024-09-18T22:55:46.200840Z"
    },
    "id": "X0MEsbst7_db",
    "papermill": {
     "duration": 1.01564,
     "end_time": "2024-09-18T22:55:46.204888",
     "exception": false,
     "start_time": "2024-09-18T22:55:45.189248",
     "status": "completed"
    },
    "tags": []
   },
   "outputs": [],
   "source": [
    "train_set= pd.read_csv('/kaggle/input/genre-classification-dataset-imdb/Genre Classification Dataset/train_data.txt',delimiter=':::',engine='python', names=columns,index_col=0 )"
   ]
  },
  {
   "cell_type": "code",
   "execution_count": 4,
   "id": "ec080ed1",
   "metadata": {
    "execution": {
     "iopub.execute_input": "2024-09-18T22:55:46.224778Z",
     "iopub.status.busy": "2024-09-18T22:55:46.224326Z",
     "iopub.status.idle": "2024-09-18T22:55:47.093226Z",
     "shell.execute_reply": "2024-09-18T22:55:47.092156Z"
    },
    "id": "0xVQwyG88Bg3",
    "papermill": {
     "duration": 0.881876,
     "end_time": "2024-09-18T22:55:47.096051",
     "exception": false,
     "start_time": "2024-09-18T22:55:46.214175",
     "status": "completed"
    },
    "tags": []
   },
   "outputs": [],
   "source": [
    "test_set=pd.read_csv('/kaggle/input/genre-classification-dataset-imdb/Genre Classification Dataset/test_data_solution.txt', delimiter=':::', engine='python',names=columns, index_col=0 )"
   ]
  },
  {
   "cell_type": "markdown",
   "id": "7fdf6eb9",
   "metadata": {
    "id": "E_bn5wpIIXCI",
    "papermill": {
     "duration": 0.009648,
     "end_time": "2024-09-18T22:55:47.115913",
     "exception": false,
     "start_time": "2024-09-18T22:55:47.106265",
     "status": "completed"
    },
    "tags": []
   },
   "source": [
    "# **Data** **Preprocessing**"
   ]
  },
  {
   "cell_type": "code",
   "execution_count": 5,
   "id": "d5dd177d",
   "metadata": {
    "execution": {
     "iopub.execute_input": "2024-09-18T22:55:47.135714Z",
     "iopub.status.busy": "2024-09-18T22:55:47.135249Z",
     "iopub.status.idle": "2024-09-18T22:55:47.348470Z",
     "shell.execute_reply": "2024-09-18T22:55:47.347306Z"
    },
    "id": "vBIlqyO9ThuJ",
    "papermill": {
     "duration": 0.22624,
     "end_time": "2024-09-18T22:55:47.351281",
     "exception": false,
     "start_time": "2024-09-18T22:55:47.125041",
     "status": "completed"
    },
    "tags": []
   },
   "outputs": [],
   "source": [
    "train_set.loc[:,'Description'] = train_set['Description'].astype(str).str.lower()\n",
    "test_set.loc[:,'Description'] = test_set['Description'].astype(str).str.lower()"
   ]
  },
  {
   "cell_type": "code",
   "execution_count": 6,
   "id": "bbb1c6f0",
   "metadata": {
    "execution": {
     "iopub.execute_input": "2024-09-18T22:55:47.370559Z",
     "iopub.status.busy": "2024-09-18T22:55:47.370104Z",
     "iopub.status.idle": "2024-09-18T22:55:47.390185Z",
     "shell.execute_reply": "2024-09-18T22:55:47.389060Z"
    },
    "id": "6tsz7lr-NRUO",
    "papermill": {
     "duration": 0.032711,
     "end_time": "2024-09-18T22:55:47.392778",
     "exception": false,
     "start_time": "2024-09-18T22:55:47.360067",
     "status": "completed"
    },
    "tags": []
   },
   "outputs": [],
   "source": [
    "train_set.drop(columns=['Title'], inplace=True)\n",
    "test_set.drop(columns=['Title'], inplace=True)"
   ]
  },
  {
   "cell_type": "code",
   "execution_count": 7,
   "id": "bd0aa6d3",
   "metadata": {
    "execution": {
     "iopub.execute_input": "2024-09-18T22:55:47.412752Z",
     "iopub.status.busy": "2024-09-18T22:55:47.411766Z",
     "iopub.status.idle": "2024-09-18T22:55:47.439243Z",
     "shell.execute_reply": "2024-09-18T22:55:47.438125Z"
    },
    "id": "PFjeJvXz8EO6",
    "outputId": "76157943-1553-468c-f071-7bc0ddafd2c3",
    "papermill": {
     "duration": 0.040614,
     "end_time": "2024-09-18T22:55:47.442226",
     "exception": false,
     "start_time": "2024-09-18T22:55:47.401612",
     "status": "completed"
    },
    "tags": []
   },
   "outputs": [
    {
     "data": {
      "text/html": [
       "<div>\n",
       "<style scoped>\n",
       "    .dataframe tbody tr th:only-of-type {\n",
       "        vertical-align: middle;\n",
       "    }\n",
       "\n",
       "    .dataframe tbody tr th {\n",
       "        vertical-align: top;\n",
       "    }\n",
       "\n",
       "    .dataframe thead th {\n",
       "        text-align: right;\n",
       "    }\n",
       "</style>\n",
       "<table border=\"1\" class=\"dataframe\">\n",
       "  <thead>\n",
       "    <tr style=\"text-align: right;\">\n",
       "      <th></th>\n",
       "      <th>Genre</th>\n",
       "      <th>Description</th>\n",
       "    </tr>\n",
       "  </thead>\n",
       "  <tbody>\n",
       "    <tr>\n",
       "      <th>1</th>\n",
       "      <td>drama</td>\n",
       "      <td>listening in to a conversation between his do...</td>\n",
       "    </tr>\n",
       "    <tr>\n",
       "      <th>2</th>\n",
       "      <td>thriller</td>\n",
       "      <td>a brother and sister with a past incestuous r...</td>\n",
       "    </tr>\n",
       "    <tr>\n",
       "      <th>3</th>\n",
       "      <td>adult</td>\n",
       "      <td>as the bus empties the students for their fie...</td>\n",
       "    </tr>\n",
       "    <tr>\n",
       "      <th>4</th>\n",
       "      <td>drama</td>\n",
       "      <td>to help their unemployed father make ends mee...</td>\n",
       "    </tr>\n",
       "    <tr>\n",
       "      <th>5</th>\n",
       "      <td>drama</td>\n",
       "      <td>the film's title refers not only to the un-re...</td>\n",
       "    </tr>\n",
       "  </tbody>\n",
       "</table>\n",
       "</div>"
      ],
      "text/plain": [
       "        Genre                                        Description\n",
       "1      drama    listening in to a conversation between his do...\n",
       "2   thriller    a brother and sister with a past incestuous r...\n",
       "3      adult    as the bus empties the students for their fie...\n",
       "4      drama    to help their unemployed father make ends mee...\n",
       "5      drama    the film's title refers not only to the un-re..."
      ]
     },
     "execution_count": 7,
     "metadata": {},
     "output_type": "execute_result"
    }
   ],
   "source": [
    "train_set.head()"
   ]
  },
  {
   "cell_type": "code",
   "execution_count": 8,
   "id": "913fe518",
   "metadata": {
    "execution": {
     "iopub.execute_input": "2024-09-18T22:55:47.463873Z",
     "iopub.status.busy": "2024-09-18T22:55:47.463471Z",
     "iopub.status.idle": "2024-09-18T22:55:47.474747Z",
     "shell.execute_reply": "2024-09-18T22:55:47.473609Z"
    },
    "id": "zjMxZvJ48Ky9",
    "outputId": "663e1d54-7ce5-4e00-8671-8d36c88912bd",
    "papermill": {
     "duration": 0.025724,
     "end_time": "2024-09-18T22:55:47.477270",
     "exception": false,
     "start_time": "2024-09-18T22:55:47.451546",
     "status": "completed"
    },
    "tags": []
   },
   "outputs": [
    {
     "data": {
      "text/html": [
       "<div>\n",
       "<style scoped>\n",
       "    .dataframe tbody tr th:only-of-type {\n",
       "        vertical-align: middle;\n",
       "    }\n",
       "\n",
       "    .dataframe tbody tr th {\n",
       "        vertical-align: top;\n",
       "    }\n",
       "\n",
       "    .dataframe thead th {\n",
       "        text-align: right;\n",
       "    }\n",
       "</style>\n",
       "<table border=\"1\" class=\"dataframe\">\n",
       "  <thead>\n",
       "    <tr style=\"text-align: right;\">\n",
       "      <th></th>\n",
       "      <th>Genre</th>\n",
       "      <th>Description</th>\n",
       "    </tr>\n",
       "  </thead>\n",
       "  <tbody>\n",
       "    <tr>\n",
       "      <th>1</th>\n",
       "      <td>thriller</td>\n",
       "      <td>l.r. brane loves his life - his car, his apar...</td>\n",
       "    </tr>\n",
       "    <tr>\n",
       "      <th>2</th>\n",
       "      <td>comedy</td>\n",
       "      <td>spain, march 1964: quico is a very naughty ch...</td>\n",
       "    </tr>\n",
       "    <tr>\n",
       "      <th>3</th>\n",
       "      <td>documentary</td>\n",
       "      <td>one year in the life of albin and his family ...</td>\n",
       "    </tr>\n",
       "    <tr>\n",
       "      <th>4</th>\n",
       "      <td>drama</td>\n",
       "      <td>his father has died, he hasn't spoken with hi...</td>\n",
       "    </tr>\n",
       "    <tr>\n",
       "      <th>5</th>\n",
       "      <td>drama</td>\n",
       "      <td>before he was known internationally as a mart...</td>\n",
       "    </tr>\n",
       "  </tbody>\n",
       "</table>\n",
       "</div>"
      ],
      "text/plain": [
       "           Genre                                        Description\n",
       "1      thriller    l.r. brane loves his life - his car, his apar...\n",
       "2        comedy    spain, march 1964: quico is a very naughty ch...\n",
       "3   documentary    one year in the life of albin and his family ...\n",
       "4         drama    his father has died, he hasn't spoken with hi...\n",
       "5         drama    before he was known internationally as a mart..."
      ]
     },
     "execution_count": 8,
     "metadata": {},
     "output_type": "execute_result"
    }
   ],
   "source": [
    "test_set.head()"
   ]
  },
  {
   "cell_type": "code",
   "execution_count": 9,
   "id": "90ef5071",
   "metadata": {
    "execution": {
     "iopub.execute_input": "2024-09-18T22:55:47.498609Z",
     "iopub.status.busy": "2024-09-18T22:55:47.498132Z",
     "iopub.status.idle": "2024-09-18T22:55:47.531446Z",
     "shell.execute_reply": "2024-09-18T22:55:47.530344Z"
    },
    "id": "WhZ6BOMf8NkE",
    "outputId": "55fb65bc-fdde-445d-b259-fb657e7fd305",
    "papermill": {
     "duration": 0.047217,
     "end_time": "2024-09-18T22:55:47.534098",
     "exception": false,
     "start_time": "2024-09-18T22:55:47.486881",
     "status": "completed"
    },
    "tags": []
   },
   "outputs": [
    {
     "name": "stdout",
     "output_type": "stream",
     "text": [
      "<class 'pandas.core.frame.DataFrame'>\n",
      "Index: 54214 entries, 1 to 54214\n",
      "Data columns (total 2 columns):\n",
      " #   Column       Non-Null Count  Dtype \n",
      "---  ------       --------------  ----- \n",
      " 0   Genre        54214 non-null  object\n",
      " 1   Description  54214 non-null  object\n",
      "dtypes: object(2)\n",
      "memory usage: 1.2+ MB\n"
     ]
    }
   ],
   "source": [
    "train_set.info()"
   ]
  },
  {
   "cell_type": "code",
   "execution_count": 10,
   "id": "fc7fe1a8",
   "metadata": {
    "execution": {
     "iopub.execute_input": "2024-09-18T22:55:47.555638Z",
     "iopub.status.busy": "2024-09-18T22:55:47.554839Z",
     "iopub.status.idle": "2024-09-18T22:55:47.665330Z",
     "shell.execute_reply": "2024-09-18T22:55:47.664316Z"
    },
    "id": "U24XdMNH8Pst",
    "outputId": "4d248b17-3ce9-4f68-b0f1-cec00ba25d8a",
    "papermill": {
     "duration": 0.123989,
     "end_time": "2024-09-18T22:55:47.667823",
     "exception": false,
     "start_time": "2024-09-18T22:55:47.543834",
     "status": "completed"
    },
    "tags": []
   },
   "outputs": [
    {
     "data": {
      "text/html": [
       "<div>\n",
       "<style scoped>\n",
       "    .dataframe tbody tr th:only-of-type {\n",
       "        vertical-align: middle;\n",
       "    }\n",
       "\n",
       "    .dataframe tbody tr th {\n",
       "        vertical-align: top;\n",
       "    }\n",
       "\n",
       "    .dataframe thead th {\n",
       "        text-align: right;\n",
       "    }\n",
       "</style>\n",
       "<table border=\"1\" class=\"dataframe\">\n",
       "  <thead>\n",
       "    <tr style=\"text-align: right;\">\n",
       "      <th></th>\n",
       "      <th>Genre</th>\n",
       "      <th>Description</th>\n",
       "    </tr>\n",
       "  </thead>\n",
       "  <tbody>\n",
       "    <tr>\n",
       "      <th>count</th>\n",
       "      <td>54214</td>\n",
       "      <td>54214</td>\n",
       "    </tr>\n",
       "    <tr>\n",
       "      <th>unique</th>\n",
       "      <td>27</td>\n",
       "      <td>54085</td>\n",
       "    </tr>\n",
       "    <tr>\n",
       "      <th>top</th>\n",
       "      <td>drama</td>\n",
       "      <td>grammy - music award of the american academy ...</td>\n",
       "    </tr>\n",
       "    <tr>\n",
       "      <th>freq</th>\n",
       "      <td>13613</td>\n",
       "      <td>12</td>\n",
       "    </tr>\n",
       "  </tbody>\n",
       "</table>\n",
       "</div>"
      ],
      "text/plain": [
       "          Genre                                        Description\n",
       "count     54214                                              54214\n",
       "unique       27                                              54085\n",
       "top      drama    grammy - music award of the american academy ...\n",
       "freq      13613                                                 12"
      ]
     },
     "execution_count": 10,
     "metadata": {},
     "output_type": "execute_result"
    }
   ],
   "source": [
    "train_set.describe()"
   ]
  },
  {
   "cell_type": "code",
   "execution_count": 11,
   "id": "e9fb56f3",
   "metadata": {
    "execution": {
     "iopub.execute_input": "2024-09-18T22:55:47.689282Z",
     "iopub.status.busy": "2024-09-18T22:55:47.688878Z",
     "iopub.status.idle": "2024-09-18T22:55:47.713156Z",
     "shell.execute_reply": "2024-09-18T22:55:47.712130Z"
    },
    "id": "34cunJKoNpga",
    "outputId": "cba97cde-2251-4e65-bd9e-a98eb3b1d230",
    "papermill": {
     "duration": 0.037727,
     "end_time": "2024-09-18T22:55:47.715786",
     "exception": false,
     "start_time": "2024-09-18T22:55:47.678059",
     "status": "completed"
    },
    "tags": []
   },
   "outputs": [
    {
     "name": "stdout",
     "output_type": "stream",
     "text": [
      "<class 'pandas.core.frame.DataFrame'>\n",
      "Index: 54200 entries, 1 to 54200\n",
      "Data columns (total 2 columns):\n",
      " #   Column       Non-Null Count  Dtype \n",
      "---  ------       --------------  ----- \n",
      " 0   Genre        54200 non-null  object\n",
      " 1   Description  54200 non-null  object\n",
      "dtypes: object(2)\n",
      "memory usage: 1.2+ MB\n"
     ]
    }
   ],
   "source": [
    "test_set.info()"
   ]
  },
  {
   "cell_type": "code",
   "execution_count": 12,
   "id": "2c42ad3f",
   "metadata": {
    "execution": {
     "iopub.execute_input": "2024-09-18T22:55:47.738522Z",
     "iopub.status.busy": "2024-09-18T22:55:47.738097Z",
     "iopub.status.idle": "2024-09-18T22:55:47.850904Z",
     "shell.execute_reply": "2024-09-18T22:55:47.849811Z"
    },
    "id": "JpzhVCOeNtHF",
    "outputId": "c0110d87-c670-4f24-f7c8-68fd4b455d2c",
    "papermill": {
     "duration": 0.127631,
     "end_time": "2024-09-18T22:55:47.853446",
     "exception": false,
     "start_time": "2024-09-18T22:55:47.725815",
     "status": "completed"
    },
    "tags": []
   },
   "outputs": [
    {
     "data": {
      "text/html": [
       "<div>\n",
       "<style scoped>\n",
       "    .dataframe tbody tr th:only-of-type {\n",
       "        vertical-align: middle;\n",
       "    }\n",
       "\n",
       "    .dataframe tbody tr th {\n",
       "        vertical-align: top;\n",
       "    }\n",
       "\n",
       "    .dataframe thead th {\n",
       "        text-align: right;\n",
       "    }\n",
       "</style>\n",
       "<table border=\"1\" class=\"dataframe\">\n",
       "  <thead>\n",
       "    <tr style=\"text-align: right;\">\n",
       "      <th></th>\n",
       "      <th>Genre</th>\n",
       "      <th>Description</th>\n",
       "    </tr>\n",
       "  </thead>\n",
       "  <tbody>\n",
       "    <tr>\n",
       "      <th>count</th>\n",
       "      <td>54200</td>\n",
       "      <td>54200</td>\n",
       "    </tr>\n",
       "    <tr>\n",
       "      <th>unique</th>\n",
       "      <td>27</td>\n",
       "      <td>54071</td>\n",
       "    </tr>\n",
       "    <tr>\n",
       "      <th>top</th>\n",
       "      <td>drama</td>\n",
       "      <td>grammy - music award of the american academy ...</td>\n",
       "    </tr>\n",
       "    <tr>\n",
       "      <th>freq</th>\n",
       "      <td>13612</td>\n",
       "      <td>10</td>\n",
       "    </tr>\n",
       "  </tbody>\n",
       "</table>\n",
       "</div>"
      ],
      "text/plain": [
       "          Genre                                        Description\n",
       "count     54200                                              54200\n",
       "unique       27                                              54071\n",
       "top      drama    grammy - music award of the american academy ...\n",
       "freq      13612                                                 10"
      ]
     },
     "execution_count": 12,
     "metadata": {},
     "output_type": "execute_result"
    }
   ],
   "source": [
    "test_set.describe()"
   ]
  },
  {
   "cell_type": "code",
   "execution_count": 13,
   "id": "32f48c2c",
   "metadata": {
    "execution": {
     "iopub.execute_input": "2024-09-18T22:55:47.876645Z",
     "iopub.status.busy": "2024-09-18T22:55:47.875646Z",
     "iopub.status.idle": "2024-09-18T22:55:48.091192Z",
     "shell.execute_reply": "2024-09-18T22:55:48.089727Z"
    },
    "id": "jRR83wYOOQsP",
    "outputId": "0201f7a3-3764-4b08-ad27-307d7bef9c99",
    "papermill": {
     "duration": 0.230022,
     "end_time": "2024-09-18T22:55:48.093824",
     "exception": false,
     "start_time": "2024-09-18T22:55:47.863802",
     "status": "completed"
    },
    "tags": []
   },
   "outputs": [
    {
     "name": "stdout",
     "output_type": "stream",
     "text": [
      "110\n",
      "114\n"
     ]
    }
   ],
   "source": [
    "print(train_set.duplicated().sum())\n",
    "print(test_set.duplicated().sum())"
   ]
  },
  {
   "cell_type": "code",
   "execution_count": 14,
   "id": "431bd962",
   "metadata": {
    "execution": {
     "iopub.execute_input": "2024-09-18T22:55:48.116464Z",
     "iopub.status.busy": "2024-09-18T22:55:48.116030Z",
     "iopub.status.idle": "2024-09-18T22:55:48.325521Z",
     "shell.execute_reply": "2024-09-18T22:55:48.324536Z"
    },
    "id": "B-eIu79aOoBq",
    "papermill": {
     "duration": 0.22407,
     "end_time": "2024-09-18T22:55:48.328311",
     "exception": false,
     "start_time": "2024-09-18T22:55:48.104241",
     "status": "completed"
    },
    "tags": []
   },
   "outputs": [],
   "source": [
    "train_set=train_set.drop_duplicates()\n",
    "test_set=test_set.drop_duplicates()"
   ]
  },
  {
   "cell_type": "code",
   "execution_count": 15,
   "id": "0a8ce433",
   "metadata": {
    "execution": {
     "iopub.execute_input": "2024-09-18T22:55:48.351980Z",
     "iopub.status.busy": "2024-09-18T22:55:48.351190Z",
     "iopub.status.idle": "2024-09-18T22:55:48.357115Z",
     "shell.execute_reply": "2024-09-18T22:55:48.356010Z"
    },
    "id": "kxMUJhRN8Roy",
    "outputId": "69987b0b-e9f2-44e3-8847-d6edbcf19a85",
    "papermill": {
     "duration": 0.020682,
     "end_time": "2024-09-18T22:55:48.359880",
     "exception": false,
     "start_time": "2024-09-18T22:55:48.339198",
     "status": "completed"
    },
    "tags": []
   },
   "outputs": [
    {
     "name": "stdout",
     "output_type": "stream",
     "text": [
      "(54104, 2)\n",
      "(54086, 2)\n"
     ]
    }
   ],
   "source": [
    "print(train_set.shape)\n",
    "print(test_set.shape)"
   ]
  },
  {
   "cell_type": "code",
   "execution_count": 16,
   "id": "c7257c19",
   "metadata": {
    "execution": {
     "iopub.execute_input": "2024-09-18T22:55:48.383708Z",
     "iopub.status.busy": "2024-09-18T22:55:48.382770Z",
     "iopub.status.idle": "2024-09-18T22:55:49.055123Z",
     "shell.execute_reply": "2024-09-18T22:55:49.053969Z"
    },
    "id": "hYEO_E4GRdWj",
    "outputId": "970447fc-b29b-4ab6-c9da-b909f714d780",
    "papermill": {
     "duration": 0.687118,
     "end_time": "2024-09-18T22:55:49.057612",
     "exception": false,
     "start_time": "2024-09-18T22:55:48.370494",
     "status": "completed"
    },
    "tags": []
   },
   "outputs": [
    {
     "data": {
      "image/png": "[encoded data removed]",
      "text/plain": [
       "<Figure size 1000x600 with 1 Axes>"
      ]
     },
     "metadata": {},
     "output_type": "display_data"
    }
   ],
   "source": [
    "plt.figure(figsize=(10,6))\n",
    "sns.countplot(x='Genre' , data=train_set , order=train_set['Genre'].value_counts().index )\n",
    "plt.title('Genre Distribution')\n",
    "plt.xlabel('Genre')\n",
    "plt.ylabel('Count')\n",
    "plt.xticks(rotation=90)\n",
    "plt.show()"
   ]
  },
  {
   "cell_type": "code",
   "execution_count": 17,
   "id": "da99c2ea",
   "metadata": {
    "execution": {
     "iopub.execute_input": "2024-09-18T22:55:49.082954Z",
     "iopub.status.busy": "2024-09-18T22:55:49.082504Z",
     "iopub.status.idle": "2024-09-18T22:55:49.088680Z",
     "shell.execute_reply": "2024-09-18T22:55:49.087545Z"
    },
    "id": "e0pPeKk7YqUA",
    "papermill": {
     "duration": 0.021698,
     "end_time": "2024-09-18T22:55:49.091168",
     "exception": false,
     "start_time": "2024-09-18T22:55:49.069470",
     "status": "completed"
    },
    "tags": []
   },
   "outputs": [],
   "source": [
    "x_train=train_set['Description']\n",
    "y_train=train_set['Genre']\n",
    "x_test=test_set['Description']\n",
    "y_test=test_set['Genre']"
   ]
  },
  {
   "cell_type": "code",
   "execution_count": 18,
   "id": "ea4e362d",
   "metadata": {
    "execution": {
     "iopub.execute_input": "2024-09-18T22:55:49.117288Z",
     "iopub.status.busy": "2024-09-18T22:55:49.116152Z",
     "iopub.status.idle": "2024-09-18T22:55:49.122224Z",
     "shell.execute_reply": "2024-09-18T22:55:49.121158Z"
    },
    "id": "thPfo2THY9ff",
    "outputId": "906bb34a-0230-4bd4-b942-33fc8e2ae0b5",
    "papermill": {
     "duration": 0.021992,
     "end_time": "2024-09-18T22:55:49.124957",
     "exception": false,
     "start_time": "2024-09-18T22:55:49.102965",
     "status": "completed"
    },
    "tags": []
   },
   "outputs": [
    {
     "name": "stdout",
     "output_type": "stream",
     "text": [
      "(54104,)\n",
      "(54104,)\n"
     ]
    }
   ],
   "source": [
    "print(x_train.shape)\n",
    "print(y_train.shape)"
   ]
  },
  {
   "cell_type": "code",
   "execution_count": 19,
   "id": "54b399a9",
   "metadata": {
    "execution": {
     "iopub.execute_input": "2024-09-18T22:55:49.150424Z",
     "iopub.status.busy": "2024-09-18T22:55:49.149935Z",
     "iopub.status.idle": "2024-09-18T22:55:49.156581Z",
     "shell.execute_reply": "2024-09-18T22:55:49.155224Z"
    },
    "id": "7wFLVbfHY-YE",
    "outputId": "bcda8a27-622e-4fc0-96b1-155938bcddfd",
    "papermill": {
     "duration": 0.021891,
     "end_time": "2024-09-18T22:55:49.158823",
     "exception": false,
     "start_time": "2024-09-18T22:55:49.136932",
     "status": "completed"
    },
    "tags": []
   },
   "outputs": [
    {
     "name": "stdout",
     "output_type": "stream",
     "text": [
      "(54086,)\n",
      "(54086,)\n"
     ]
    }
   ],
   "source": [
    "print(x_test.shape)\n",
    "print(y_test.shape)"
   ]
  },
  {
   "cell_type": "markdown",
   "id": "867f65cf",
   "metadata": {
    "id": "yuSg2ZZJIhyd",
    "papermill": {
     "duration": 0.011581,
     "end_time": "2024-09-18T22:55:49.182405",
     "exception": false,
     "start_time": "2024-09-18T22:55:49.170824",
     "status": "completed"
    },
    "tags": []
   },
   "source": [
    "# **Feature Engineering**"
   ]
  },
  {
   "cell_type": "code",
   "execution_count": 20,
   "id": "90818563",
   "metadata": {
    "execution": {
     "iopub.execute_input": "2024-09-18T22:55:49.208674Z",
     "iopub.status.busy": "2024-09-18T22:55:49.207727Z",
     "iopub.status.idle": "2024-09-18T22:56:12.613396Z",
     "shell.execute_reply": "2024-09-18T22:56:12.612411Z"
    },
    "id": "2vu1alBHVMqE",
    "papermill": {
     "duration": 23.421779,
     "end_time": "2024-09-18T22:56:12.615994",
     "exception": false,
     "start_time": "2024-09-18T22:55:49.194215",
     "status": "completed"
    },
    "tags": []
   },
   "outputs": [],
   "source": [
    "def cleaning_data(text):\n",
    "    text = re.sub(r'@\\S+', '', text)\n",
    "    text = re.sub(r'http\\S+', '', text)\n",
    "    text = re.sub(r'[^a-zA-Z+]', ' ', text)\n",
    "    text = \"\".join([i for i in text if i not in string.punctuation])\n",
    "    text = re.sub(r\"\\s+\", \" \", text).strip()\n",
    "    return text\n",
    "x_train=x_train.apply(cleaning_data)\n",
    "x_test=x_test.apply(cleaning_data)"
   ]
  },
  {
   "cell_type": "code",
   "execution_count": 21,
   "id": "319cc83e",
   "metadata": {
    "execution": {
     "iopub.execute_input": "2024-09-18T22:56:12.642686Z",
     "iopub.status.busy": "2024-09-18T22:56:12.642226Z",
     "iopub.status.idle": "2024-09-18T22:56:25.973848Z",
     "shell.execute_reply": "2024-09-18T22:56:25.972789Z"
    },
    "id": "6kZG0Zoj8aOU",
    "papermill": {
     "duration": 13.348457,
     "end_time": "2024-09-18T22:56:25.976634",
     "exception": false,
     "start_time": "2024-09-18T22:56:12.628177",
     "status": "completed"
    },
    "tags": []
   },
   "outputs": [],
   "source": [
    "tfidf=TfidfVectorizer( stop_words ='english',max_features=5000)\n",
    "x_train=tfidf.fit_transform(x_train)\n",
    "x_test=tfidf.transform(x_test)"
   ]
  },
  {
   "cell_type": "markdown",
   "id": "4764b7de",
   "metadata": {
    "id": "4LxrKLr_I0PN",
    "papermill": {
     "duration": 0.011994,
     "end_time": "2024-09-18T22:56:26.001468",
     "exception": false,
     "start_time": "2024-09-18T22:56:25.989474",
     "status": "completed"
    },
    "tags": []
   },
   "source": [
    "# **splitting** **the** **dataset**"
   ]
  },
  {
   "cell_type": "code",
   "execution_count": 22,
   "id": "e336daa2",
   "metadata": {
    "execution": {
     "iopub.execute_input": "2024-09-18T22:56:26.028039Z",
     "iopub.status.busy": "2024-09-18T22:56:26.027561Z",
     "iopub.status.idle": "2024-09-18T22:56:26.049540Z",
     "shell.execute_reply": "2024-09-18T22:56:26.048446Z"
    },
    "id": "KL-t3MCxPu-o",
    "papermill": {
     "duration": 0.038472,
     "end_time": "2024-09-18T22:56:26.052212",
     "exception": false,
     "start_time": "2024-09-18T22:56:26.013740",
     "status": "completed"
    },
    "tags": []
   },
   "outputs": [],
   "source": [
    "X_train,X_val,Y_train,Y_val=train_test_split(x_train,y_train,test_size=0.2,random_state=42)"
   ]
  },
  {
   "cell_type": "markdown",
   "id": "7d7719fb",
   "metadata": {
    "id": "4yHneqSjJTfW",
    "papermill": {
     "duration": 0.011989,
     "end_time": "2024-09-18T22:56:26.077055",
     "exception": false,
     "start_time": "2024-09-18T22:56:26.065066",
     "status": "completed"
    },
    "tags": []
   },
   "source": [
    "# **Model Training**"
   ]
  },
  {
   "cell_type": "code",
   "execution_count": 23,
   "id": "f2adde9c",
   "metadata": {
    "execution": {
     "iopub.execute_input": "2024-09-18T22:56:26.103536Z",
     "iopub.status.busy": "2024-09-18T22:56:26.103106Z",
     "iopub.status.idle": "2024-09-18T22:56:26.456084Z",
     "shell.execute_reply": "2024-09-18T22:56:26.455046Z"
    },
    "id": "4YDV_zqnDc4y",
    "outputId": "5a79d953-c018-4e0d-e268-0ecb4a86fb62",
    "papermill": {
     "duration": 0.368922,
     "end_time": "2024-09-18T22:56:26.458434",
     "exception": false,
     "start_time": "2024-09-18T22:56:26.089512",
     "status": "completed"
    },
    "tags": []
   },
   "outputs": [
    {
     "data": {
      "text/html": [
       "<style>#sk-container-id-1 {color: black;background-color: white;}#sk-container-id-1 pre{padding: 0;}#sk-container-id-1 div.sk-toggleable {background-color: white;}#sk-container-id-1 label.sk-toggleable__label {cursor: pointer;display: block;width: 100%;margin-bottom: 0;padding: 0.3em;box-sizing: border-box;text-align: center;}#sk-container-id-1 label.sk-toggleable__label-arrow:before {content: \"▸\";float: left;margin-right: 0.25em;color: #696969;}#sk-container-id-1 label.sk-toggleable__label-arrow:hover:before {color: black;}#sk-container-id-1 div.sk-estimator:hover label.sk-toggleable__label-arrow:before {color: black;}#sk-container-id-1 div.sk-toggleable__content {max-height: 0;max-width: 0;overflow: hidden;text-align: left;background-color: #f0f8ff;}#sk-container-id-1 div.sk-toggleable__content pre {margin: 0.2em;color: black;border-radius: 0.25em;background-color: #f0f8ff;}#sk-container-id-1 input.sk-toggleable__control:checked~div.sk-toggleable__content {max-height: 200px;max-width: 100%;overflow: auto;}#sk-container-id-1 input.sk-toggleable__control:checked~label.sk-toggleable__label-arrow:before {content: \"▾\";}#sk-container-id-1 div.sk-estimator input.sk-toggleable__control:checked~label.sk-toggleable__label {background-color: #d4ebff;}#sk-container-id-1 div.sk-label input.sk-toggleable__control:checked~label.sk-toggleable__label {background-color: #d4ebff;}#sk-container-id-1 input.sk-hidden--visually {border: 0;clip: rect(1px 1px 1px 1px);clip: rect(1px, 1px, 1px, 1px);height: 1px;margin: -1px;overflow: hidden;padding: 0;position: absolute;width: 1px;}#sk-container-id-1 div.sk-estimator {font-family: monospace;background-color: #f0f8ff;border: 1px dotted black;border-radius: 0.25em;box-sizing: border-box;margin-bottom: 0.5em;}#sk-container-id-1 div.sk-estimator:hover {background-color: #d4ebff;}#sk-container-id-1 div.sk-parallel-item::after {content: \"\";width: 100%;border-bottom: 1px solid gray;flex-grow: 1;}#sk-container-id-1 div.sk-label:hover label.sk-toggleable__label {background-color: #d4ebff;}#sk-container-id-1 div.sk-serial::before {content: \"\";position: absolute;border-left: 1px solid gray;box-sizing: border-box;top: 0;bottom: 0;left: 50%;z-index: 0;}#sk-container-id-1 div.sk-serial {display: flex;flex-direction: column;align-items: center;background-color: white;padding-right: 0.2em;padding-left: 0.2em;position: relative;}#sk-container-id-1 div.sk-item {position: relative;z-index: 1;}#sk-container-id-1 div.sk-parallel {display: flex;align-items: stretch;justify-content: center;background-color: white;position: relative;}#sk-container-id-1 div.sk-item::before, #sk-container-id-1 div.sk-parallel-item::before {content: \"\";position: absolute;border-left: 1px solid gray;box-sizing: border-box;top: 0;bottom: 0;left: 50%;z-index: -1;}#sk-container-id-1 div.sk-parallel-item {display: flex;flex-direction: column;z-index: 1;position: relative;background-color: white;}#sk-container-id-1 div.sk-parallel-item:first-child::after {align-self: flex-end;width: 50%;}#sk-container-id-1 div.sk-parallel-item:last-child::after {align-self: flex-start;width: 50%;}#sk-container-id-1 div.sk-parallel-item:only-child::after {width: 0;}#sk-container-id-1 div.sk-dashed-wrapped {border: 1px dashed gray;margin: 0 0.4em 0.5em 0.4em;box-sizing: border-box;padding-bottom: 0.4em;background-color: white;}#sk-container-id-1 div.sk-label label {font-family: monospace;font-weight: bold;display: inline-block;line-height: 1.2em;}#sk-container-id-1 div.sk-label-container {text-align: center;}#sk-container-id-1 div.sk-container {/* jupyter's `normalize.less` sets `[hidden] { display: none; }` but bootstrap.min.css set `[hidden] { display: none !important; }` so we also need the `!important` here to be able to override the default hidden behavior on the sphinx rendered scikit-learn.org. See: https://github.com/scikit-learn/scikit-learn/issues/21755 */display: inline-block !important;position: relative;}#sk-container-id-1 div.sk-text-repr-fallback {display: none;}</style><div id=\"sk-container-id-1\" class=\"sk-top-container\"><div class=\"sk-text-repr-fallback\"><pre>MultinomialNB()</pre><b>In a Jupyter environment, please rerun this cell to show the HTML representation or trust the notebook. <br />On GitHub, the HTML representation is unable to render, please try loading this page with nbviewer.org.</b></div><div class=\"sk-container\" hidden><div class=\"sk-item\"><div class=\"sk-estimator sk-toggleable\"><input class=\"sk-toggleable__control sk-hidden--visually\" id=\"sk-estimator-id-1\" type=\"checkbox\" checked><label for=\"sk-estimator-id-1\" class=\"sk-toggleable__label sk-toggleable__label-arrow\">MultinomialNB</label><div class=\"sk-toggleable__content\"><pre>MultinomialNB()</pre></div></div></div></div></div>"
      ],
      "text/plain": [
       "MultinomialNB()"
      ]
     },
     "execution_count": 23,
     "metadata": {},
     "output_type": "execute_result"
    }
   ],
   "source": [
    "nb=MultinomialNB()\n",
    "nb.fit(X_train, Y_train)"
   ]
  },
  {
   "cell_type": "markdown",
   "id": "3e873ffc",
   "metadata": {
    "id": "X2UbnAIyJqJf",
    "papermill": {
     "duration": 0.012438,
     "end_time": "2024-09-18T22:56:26.483779",
     "exception": false,
     "start_time": "2024-09-18T22:56:26.471341",
     "status": "completed"
    },
    "tags": []
   },
   "source": [
    "# **Model Evaluation**"
   ]
  },
  {
   "cell_type": "code",
   "execution_count": 24,
   "id": "694add3e",
   "metadata": {
    "execution": {
     "iopub.execute_input": "2024-09-18T22:56:26.510912Z",
     "iopub.status.busy": "2024-09-18T22:56:26.510433Z",
     "iopub.status.idle": "2024-09-18T22:56:26.527213Z",
     "shell.execute_reply": "2024-09-18T22:56:26.526265Z"
    },
    "id": "2JAGd3hHCbhS",
    "papermill": {
     "duration": 0.033616,
     "end_time": "2024-09-18T22:56:26.529918",
     "exception": false,
     "start_time": "2024-09-18T22:56:26.496302",
     "status": "completed"
    },
    "tags": []
   },
   "outputs": [],
   "source": [
    "y_pred=nb.predict(X_val)"
   ]
  },
  {
   "cell_type": "code",
   "execution_count": 25,
   "id": "5bc6a393",
   "metadata": {
    "execution": {
     "iopub.execute_input": "2024-09-18T22:56:26.557685Z",
     "iopub.status.busy": "2024-09-18T22:56:26.556820Z",
     "iopub.status.idle": "2024-09-18T22:56:26.991008Z",
     "shell.execute_reply": "2024-09-18T22:56:26.989581Z"
    },
    "id": "DgYIVqeOCd3z",
    "outputId": "d4fa4a04-a581-48c0-894f-dbbc7b9f3295",
    "papermill": {
     "duration": 0.450927,
     "end_time": "2024-09-18T22:56:26.993705",
     "exception": false,
     "start_time": "2024-09-18T22:56:26.542778",
     "status": "completed"
    },
    "tags": []
   },
   "outputs": [
    {
     "name": "stdout",
     "output_type": "stream",
     "text": [
      "Train accuracy: 0.5247204509749561\n",
      "Train classification report:\n",
      "               precision    recall  f1-score   support\n",
      "\n",
      "      action        0.53      0.06      0.11       271\n",
      "       adult        0.44      0.03      0.06       118\n",
      "   adventure        0.64      0.06      0.12       141\n",
      "   animation        0.00      0.00      0.00        84\n",
      "   biography        0.00      0.00      0.00        54\n",
      "      comedy        0.51      0.43      0.46      1445\n",
      "       crime        0.00      0.00      0.00        88\n",
      " documentary        0.58      0.88      0.70      2685\n",
      "       drama        0.46      0.83      0.59      2720\n",
      "      family        0.00      0.00      0.00       145\n",
      "     fantasy        0.00      0.00      0.00        57\n",
      "   game-show        1.00      0.20      0.33        40\n",
      "     history        0.00      0.00      0.00        52\n",
      "      horror        0.70      0.34      0.46       429\n",
      "       music        0.94      0.11      0.19       148\n",
      "     musical        0.00      0.00      0.00        55\n",
      "     mystery        0.00      0.00      0.00        89\n",
      "        news        0.00      0.00      0.00        39\n",
      "  reality-tv        0.29      0.01      0.02       167\n",
      "     romance        0.00      0.00      0.00       127\n",
      "      sci-fi        0.67      0.01      0.03       134\n",
      "       short        0.60      0.10      0.18      1001\n",
      "       sport        1.00      0.07      0.14        80\n",
      "   talk-show        0.00      0.00      0.00        73\n",
      "    thriller        0.62      0.01      0.03       341\n",
      "         war        0.00      0.00      0.00        27\n",
      "     western        0.98      0.56      0.71       211\n",
      "\n",
      "     accuracy                           0.52     10821\n",
      "    macro avg       0.37      0.14      0.15     10821\n",
      " weighted avg       0.51      0.52      0.44     10821\n",
      "\n"
     ]
    }
   ],
   "source": [
    "accuracy_train=accuracy_score(Y_val, y_pred)\n",
    "print(\"Train accuracy:\", accuracy_train)\n",
    "print(\"Train classification report:\")\n",
    "print(classification_report(Y_val, y_pred,zero_division=0))"
   ]
  },
  {
   "cell_type": "code",
   "execution_count": 26,
   "id": "42c3e0e2",
   "metadata": {
    "execution": {
     "iopub.execute_input": "2024-09-18T22:56:27.022243Z",
     "iopub.status.busy": "2024-09-18T22:56:27.021785Z",
     "iopub.status.idle": "2024-09-18T22:56:29.393728Z",
     "shell.execute_reply": "2024-09-18T22:56:29.392522Z"
    },
    "id": "aJkOz5iYP_CT",
    "outputId": "a6c89ba8-fa65-446c-ff11-beb81f9eb888",
    "papermill": {
     "duration": 2.389835,
     "end_time": "2024-09-18T22:56:29.396822",
     "exception": false,
     "start_time": "2024-09-18T22:56:27.006987",
     "status": "completed"
    },
    "tags": []
   },
   "outputs": [
    {
     "name": "stdout",
     "output_type": "stream",
     "text": [
      "\n",
      "Test accuracy: 0.5181747587175979\n",
      "Test classification report:\n",
      "               precision    recall  f1-score   support\n",
      "\n",
      "      action        0.57      0.08      0.15      1314\n",
      "       adult        0.53      0.06      0.10       590\n",
      "   adventure        0.81      0.06      0.10       773\n",
      "   animation        0.00      0.00      0.00       498\n",
      "   biography        0.00      0.00      0.00       264\n",
      "      comedy        0.51      0.42      0.46      7437\n",
      "       crime        0.00      0.00      0.00       505\n",
      " documentary        0.57      0.87      0.69     13085\n",
      "       drama        0.45      0.83      0.59     13565\n",
      "      family        0.00      0.00      0.00       774\n",
      "     fantasy        0.00      0.00      0.00       322\n",
      "   game-show        0.98      0.28      0.44       193\n",
      "     history        0.00      0.00      0.00       243\n",
      "      horror        0.70      0.33      0.45      2204\n",
      "       music        0.76      0.09      0.16       720\n",
      "     musical        0.00      0.00      0.00       273\n",
      "     mystery        0.00      0.00      0.00       318\n",
      "        news        0.00      0.00      0.00       181\n",
      "  reality-tv        0.55      0.01      0.03       881\n",
      "     romance        0.00      0.00      0.00       670\n",
      "      sci-fi        0.63      0.03      0.06       645\n",
      "       short        0.59      0.11      0.19      5061\n",
      "       sport        0.82      0.09      0.17       430\n",
      "   talk-show        0.00      0.00      0.00       389\n",
      "    thriller        0.31      0.01      0.02      1589\n",
      "         war        0.00      0.00      0.00       132\n",
      "     western        0.96      0.58      0.72      1030\n",
      "\n",
      "     accuracy                           0.52     54086\n",
      "    macro avg       0.36      0.14      0.16     54086\n",
      " weighted avg       0.50      0.52      0.44     54086\n",
      "\n"
     ]
    }
   ],
   "source": [
    "y_pred_test=nb.predict(x_test)\n",
    "accuracy_test=accuracy_score(y_test, y_pred_test)\n",
    "print(\"\\nTest accuracy:\", accuracy_test)\n",
    "print(\"Test classification report:\")\n",
    "print(classification_report(y_test, y_pred_test,zero_division=0))"
   ]
  }
 ],
 "metadata": {
  "colab": {
   "provenance": []
  },
  "kaggle": {
   "accelerator": "none",
   "dataSources": [
    {
     "datasetId": 1417162,
     "sourceId": 2347441,
     "sourceType": "datasetVersion"
    }
   ],
   "isGpuEnabled": false,
   "isInternetEnabled": true,
   "language": "python",
   "sourceType": "notebook"
  },
  "kernelspec": {
   "display_name": "Python 3",
   "name": "python3"
  },
  "language_info": {
   "codemirror_mode": {
    "name": "ipython",
    "version": 3
   },
   "file_extension": ".py",
   "mimetype": "text/x-python",
   "name": "python",
   "nbconvert_exporter": "python",
   "pygments_lexer": "ipython3",
   "version": "3.10.14"
  },
  "papermill": {
   "default_parameters": {},
   "duration": 51.290718,
   "end_time": "2024-09-18T22:56:30.133542",
   "environment_variables": {},
   "exception": null,
   "input_path": "__notebook__.ipynb",
   "output_path": "__notebook__.ipynb",
   "parameters": {},
   "start_time": "2024-09-18T22:55:38.842824",
   "version": "2.6.0"
  }
 },
 "nbformat": 4,
 "nbformat_minor": 5
}
